{
 "cells": [
  {
   "cell_type": "code",
   "execution_count": 1,
   "metadata": {},
   "outputs": [],
   "source": [
    "import sample_pip_package"
   ]
  },
  {
   "cell_type": "code",
   "execution_count": null,
   "metadata": {},
   "outputs": [],
   "source": [
    "pip install git+https://github.com/rnvikram/sample_pip_package#egg=sample_pip_package"
   ]
  }
 ],
 "metadata": {
  "interpreter": {
   "hash": "db3d42415a730cfdbc4fa16faaa5200991d13ef2b9fd91436811f10fdba516e2"
  },
  "kernelspec": {
   "display_name": "Python 3.9.12 ('package')",
   "language": "python",
   "name": "python3"
  },
  "language_info": {
   "codemirror_mode": {
    "name": "ipython",
    "version": 3
   },
   "file_extension": ".py",
   "mimetype": "text/x-python",
   "name": "python",
   "nbconvert_exporter": "python",
   "pygments_lexer": "ipython3",
   "version": "3.9.12"
  },
  "orig_nbformat": 4
 },
 "nbformat": 4,
 "nbformat_minor": 2
}
